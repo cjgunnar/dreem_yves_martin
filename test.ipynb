{
 "cells": [
  {
   "cell_type": "markdown",
   "metadata": {},
   "source": [
    "## Test orc file"
   ]
  },
  {
   "cell_type": "code",
   "execution_count": 60,
   "metadata": {},
   "outputs": [
    {
     "ename": "FileNotFoundError",
     "evalue": "[Errno 2] No such file or directory: '/Users/ymdt/src/dreem/test/test_files/bitvector/mysample/AGGATTAG.orc'",
     "output_type": "error",
     "traceback": [
      "\u001b[0;31m---------------------------------------------------------------------------\u001b[0m",
      "\u001b[0;31mFileNotFoundError\u001b[0m                         Traceback (most recent call last)",
      "Cell \u001b[0;32mIn [60], line 14\u001b[0m\n\u001b[1;32m     11\u001b[0m     df\u001b[39m.\u001b[39mcolumns \u001b[39m=\u001b[39m [\u001b[39mstr\u001b[39m(c)\u001b[39m+\u001b[39m\u001b[39mstr\u001b[39m(i) \u001b[39mfor\u001b[39;00m i,c \u001b[39min\u001b[39;00m \u001b[39menumerate\u001b[39m(ref_seq)]\n\u001b[1;32m     12\u001b[0m     df\u001b[39m.\u001b[39mto_orc(output_path, index\u001b[39m=\u001b[39m\u001b[39mFalse\u001b[39;00m)     \n\u001b[0;32m---> 14\u001b[0m df \u001b[39m=\u001b[39m pd\u001b[39m.\u001b[39;49mread_orc(output_path)\n\u001b[1;32m     15\u001b[0m df\n",
      "File \u001b[0;32m~/src/dreem/venv/lib/python3.10/site-packages/pandas/io/orc.py:66\u001b[0m, in \u001b[0;36mread_orc\u001b[0;34m(path, columns, **kwargs)\u001b[0m\n\u001b[1;32m     62\u001b[0m \u001b[39m# we require a newer version of pyarrow than we support for parquet\u001b[39;00m\n\u001b[1;32m     64\u001b[0m orc \u001b[39m=\u001b[39m import_optional_dependency(\u001b[39m\"\u001b[39m\u001b[39mpyarrow.orc\u001b[39m\u001b[39m\"\u001b[39m)\n\u001b[0;32m---> 66\u001b[0m \u001b[39mwith\u001b[39;00m get_handle(path, \u001b[39m\"\u001b[39;49m\u001b[39mrb\u001b[39;49m\u001b[39m\"\u001b[39;49m, is_text\u001b[39m=\u001b[39;49m\u001b[39mFalse\u001b[39;49;00m) \u001b[39mas\u001b[39;00m handles:\n\u001b[1;32m     67\u001b[0m     orc_file \u001b[39m=\u001b[39m orc\u001b[39m.\u001b[39mORCFile(handles\u001b[39m.\u001b[39mhandle)\n\u001b[1;32m     68\u001b[0m     \u001b[39mreturn\u001b[39;00m orc_file\u001b[39m.\u001b[39mread(columns\u001b[39m=\u001b[39mcolumns, \u001b[39m*\u001b[39m\u001b[39m*\u001b[39mkwargs)\u001b[39m.\u001b[39mto_pandas()\n",
      "File \u001b[0;32m~/src/dreem/venv/lib/python3.10/site-packages/pandas/io/common.py:865\u001b[0m, in \u001b[0;36mget_handle\u001b[0;34m(path_or_buf, mode, encoding, compression, memory_map, is_text, errors, storage_options)\u001b[0m\n\u001b[1;32m    856\u001b[0m         handle \u001b[39m=\u001b[39m \u001b[39mopen\u001b[39m(\n\u001b[1;32m    857\u001b[0m             handle,\n\u001b[1;32m    858\u001b[0m             ioargs\u001b[39m.\u001b[39mmode,\n\u001b[0;32m   (...)\u001b[0m\n\u001b[1;32m    861\u001b[0m             newline\u001b[39m=\u001b[39m\u001b[39m\"\u001b[39m\u001b[39m\"\u001b[39m,\n\u001b[1;32m    862\u001b[0m         )\n\u001b[1;32m    863\u001b[0m     \u001b[39melse\u001b[39;00m:\n\u001b[1;32m    864\u001b[0m         \u001b[39m# Binary mode\u001b[39;00m\n\u001b[0;32m--> 865\u001b[0m         handle \u001b[39m=\u001b[39m \u001b[39mopen\u001b[39;49m(handle, ioargs\u001b[39m.\u001b[39;49mmode)\n\u001b[1;32m    866\u001b[0m     handles\u001b[39m.\u001b[39mappend(handle)\n\u001b[1;32m    868\u001b[0m \u001b[39m# Convert BytesIO or file objects passed with an encoding\u001b[39;00m\n",
      "\u001b[0;31mFileNotFoundError\u001b[0m: [Errno 2] No such file or directory: '/Users/ymdt/src/dreem/test/test_files/bitvector/mysample/AGGATTAG.orc'"
     ]
    }
   ],
   "source": [
    "import pandas as pd\n",
    "txt_path = '/Users/ymdt/src/dreem/test/test_files/bitvector/mysample/temp/AGGATTAG.txt'\n",
    "output_path = '/Users/ymdt/src/dreem/test/test_files/bitvector/mysample/AGGATTAG.orc'\n",
    "def make_bv_orc_from_txt(txt_path, output_path):\n",
    "    with open(txt_path, 'r') as f:\n",
    "        line = f.readline().split('\\t')\n",
    "        ref_seq = line[2]\n",
    "    df = pd.read_csv(txt_path, sep='\\t', skiprows=2).set_index('Query_name')\n",
    "    df.drop('N_Mutations', axis=1, inplace=True)\n",
    "    df = df.join(df['Bit_vector'].str.split('', expand=True)).drop(['Bit_vector',0,201], axis=1)\n",
    "    df.columns = [str(c)+str(i) for i,c in enumerate(ref_seq)]\n",
    "    df.to_orc(output_path, index=False)     \n",
    "\n",
    "df = pd.read_orc(output_path)\n",
    "df"
   ]
  },
  {
   "cell_type": "markdown",
   "metadata": {},
   "source": [
    "## Test csv file"
   ]
  },
  {
   "cell_type": "code",
   "execution_count": null,
   "metadata": {},
   "outputs": [
    {
     "ename": "KeyError",
     "evalue": "0",
     "output_type": "error",
     "traceback": [
      "\u001b[0;31m---------------------------------------------------------------------------\u001b[0m",
      "\u001b[0;31mKeyError\u001b[0m                                  Traceback (most recent call last)",
      "Cell \u001b[0;32mIn [3], line 50\u001b[0m\n\u001b[1;32m     48\u001b[0m \u001b[39mfor\u001b[39;00m read \u001b[39min\u001b[39;00m [\u001b[39m0\u001b[39m,\u001b[39m1\u001b[39m]:\n\u001b[1;32m     49\u001b[0m     \u001b[39mfor\u001b[39;00m r \u001b[39min\u001b[39;00m \u001b[39mrange\u001b[39m(NUM_READS):\n\u001b[0;32m---> 50\u001b[0m         reads_array[r\u001b[39m+\u001b[39mread\u001b[39m*\u001b[39mNUM_READS] \u001b[39m=\u001b[39m add_mutation(r, np\u001b[39m.\u001b[39;49mzeros(LENGTH_SEQUENCE, dtype\u001b[39m=\u001b[39;49m\u001b[39mint\u001b[39;49m))\n\u001b[1;32m     51\u001b[0m \u001b[39mprint\u001b[39m(reads_array\u001b[39m.\u001b[39msum(axis\u001b[39m=\u001b[39m\u001b[39m1\u001b[39m))\n\u001b[1;32m     53\u001b[0m num_reads \u001b[39m=\u001b[39m {\n\u001b[1;32m     54\u001b[0m     \u001b[39m'\u001b[39m\u001b[39mpop_avg\u001b[39m\u001b[39m'\u001b[39m: NUM_READS,\n\u001b[1;32m     55\u001b[0m     \u001b[39m'\u001b[39m\u001b[39m1\u001b[39m\u001b[39m'\u001b[39m: NUM_READS\u001b[39m/\u001b[39m\u001b[39m/\u001b[39m\u001b[39m2\u001b[39m,\n\u001b[1;32m     56\u001b[0m     \u001b[39m'\u001b[39m\u001b[39m2\u001b[39m\u001b[39m'\u001b[39m: NUM_READS\u001b[39m/\u001b[39m\u001b[39m/\u001b[39m\u001b[39m2\u001b[39m \u001b[39m-\u001b[39m NUM_READS\u001b[39m/\u001b[39m\u001b[39m/\u001b[39m\u001b[39m10\u001b[39m,\n\u001b[1;32m     57\u001b[0m     \u001b[39m'\u001b[39m\u001b[39m3\u001b[39m\u001b[39m'\u001b[39m: NUM_READS\u001b[39m/\u001b[39m\u001b[39m/\u001b[39m\u001b[39m10\u001b[39m,\n\u001b[1;32m     58\u001b[0m }\n",
      "File \u001b[0;32m~/src/dreem/test/generate_test_files.py:19\u001b[0m, in \u001b[0;36madd_mutation\u001b[0;34m(r, this_sequence, give_idx)\u001b[0m\n\u001b[1;32m     17\u001b[0m \u001b[39mif\u001b[39;00m give_idx:\n\u001b[1;32m     18\u001b[0m     \u001b[39mreturn\u001b[39;00m v, this_sequence[:v] \u001b[39m+\u001b[39m next_base(this_sequence[v]) \u001b[39m+\u001b[39m this_sequence[v\u001b[39m+\u001b[39m\u001b[39m1\u001b[39m:]\n\u001b[0;32m---> 19\u001b[0m \u001b[39mreturn\u001b[39;00m this_sequence[:v] \u001b[39m+\u001b[39m next_base(this_sequence[v]) \u001b[39m+\u001b[39m this_sequence[v\u001b[39m+\u001b[39m\u001b[39m1\u001b[39m:]\n",
      "File \u001b[0;32m~/src/dreem/dreem/util.py:90\u001b[0m, in \u001b[0;36mnext_base\u001b[0;34m(base)\u001b[0m\n\u001b[1;32m     89\u001b[0m \u001b[39mdef\u001b[39;00m \u001b[39mnext_base\u001b[39m(base):\n\u001b[0;32m---> 90\u001b[0m     \u001b[39mreturn\u001b[39;00m {\u001b[39m'\u001b[39;49m\u001b[39mA\u001b[39;49m\u001b[39m'\u001b[39;49m:\u001b[39m'\u001b[39;49m\u001b[39mT\u001b[39;49m\u001b[39m'\u001b[39;49m,\u001b[39m'\u001b[39;49m\u001b[39mT\u001b[39;49m\u001b[39m'\u001b[39;49m:\u001b[39m'\u001b[39;49m\u001b[39mC\u001b[39;49m\u001b[39m'\u001b[39;49m,\u001b[39m'\u001b[39;49m\u001b[39mC\u001b[39;49m\u001b[39m'\u001b[39;49m:\u001b[39m'\u001b[39;49m\u001b[39mG\u001b[39;49m\u001b[39m'\u001b[39;49m,\u001b[39m'\u001b[39;49m\u001b[39mG\u001b[39;49m\u001b[39m'\u001b[39;49m:\u001b[39m'\u001b[39;49m\u001b[39mA\u001b[39;49m\u001b[39m'\u001b[39;49m}[base]\n",
      "\u001b[0;31mKeyError\u001b[0m: 0"
     ]
    }
   ],
   "source": [
    "import sys, os\n",
    "sys.path.append('/Users/ymdt/src/dreem/test')\n",
    "from config import *\n",
    "from generate_test_files import *\n",
    "import pandas as pd\n",
    "import numpy as np\n",
    "\n",
    "cols_types = {\n",
    "    'sample':str,\n",
    "    'construct': str, \n",
    "    'cluster': int,\n",
    "    'sequence':str,\n",
    "    'num_reads': int,\n",
    "    'num_aligned': int,\n",
    "    'num_of_mutations': object,\n",
    "    'mut_bases': object,\n",
    "    'info_bases': object,\n",
    "    'cov_bases': object,\n",
    "    'del_bases': object,\n",
    "    'ins_bases': object,\n",
    "    'mod_bases_A': object,\n",
    "    'mod_bases_C': object,\n",
    "    'mod_bases_G': object,\n",
    "    'mod_bases_T': object,\n",
    "    'mut_rates': object,\n",
    "    'worst_cov_bases': int,\n",
    "    'skip_short_reads': int,\n",
    "    'skip_too_many_muts': int,\n",
    "    'skip_low_mapq': int\n",
    "    }\n",
    "\n",
    "df = pd.DataFrame({k:pd.Series([], dtype=v) for k,v in cols_types.items()}, index=np.arange(10))\n",
    "\n",
    "df['sample'] = SAMPLE_NAME\n",
    "df['construct'] = CONSTRUCTS\n",
    "df['sequence'] = [build_sequence_from_barcode(barcode, SEQUENCE, BARCODE_START, BARCODE_END) for barcode in BARCODES]\n",
    "df['worst_cov_bases'] = NUM_READS\n",
    "df['skip_short_reads'] = 0\n",
    "df['skip_too_many_muts'] = 0\n",
    "df['skip_low_mapq'] = 0\n",
    "\n",
    "lib = pd.read_csv('/Users/ymdt/src/dreem/test/test_files/library.csv', index_col=0).reset_index().rename(columns={'section_name':'section'})\n",
    "df = df.merge(lib, on='construct', how='left')\n",
    "samples = pd.read_csv('/Users/ymdt/src/dreem/test/test_files/samples.csv', index_col=0).reset_index()\n",
    "df = df.merge(samples, on='sample', how='left')\n",
    "\n",
    "reads_array = np.zeros((NUM_READS*2,LENGTH_SEQUENCE))\n",
    "for read in [0,1]:\n",
    "    for r in range(NUM_READS):\n",
    "        reads_array[r+read*NUM_READS] = add_mutation(r, np.zeros(LENGTH_SEQUENCE, dtype=int))\n",
    "print(reads_array.sum(axis=1))\n",
    "\n",
    "num_reads = {\n",
    "    'pop_avg': NUM_READS,\n",
    "    '1': NUM_READS//2,\n",
    "    '2': NUM_READS//2 - NUM_READS//10,\n",
    "    '3': NUM_READS//10,\n",
    "}\n",
    "mutation_points = MUTATION_THRESHOLD.values()\n",
    "\n",
    "num_of_mutations = {\n",
    "    'pop_avg':np.zeros(len(SEQUENCE), dtype=int),\n",
    "    '1': np.zeros(len(SEQUENCE), dtype=int),\n",
    "    '2': np.zeros(len(SEQUENCE), dtype=int),\n",
    "    '3':np.zeros(len(SEQUENCE), dtype=int),\n",
    "}\n",
    "for k, v in num_of_mutations.items():\n",
    "    num_of_mutations[k][1] = num_reads[k]\n",
    "\n",
    "mut_bases = {\n",
    "    'pop_avg':np.zeros(len(SEQUENCE), dtype=int),\n",
    "    '1': np.zeros(len(SEQUENCE), dtype=int),\n",
    "    '2': np.zeros(len(SEQUENCE), dtype=int),\n",
    "    '3':np.zeros(len(SEQUENCE), dtype=int),\n",
    "}\n",
    "\n",
    "\n",
    "df_out = pd.DataFrame()\n",
    "for cluster in ['pop_avg','1','2','3']:\n",
    "    df_temp  = df.copy()\n",
    "    df_temp['cluster'] = cluster\n",
    "    df_temp['mut_bases'] = df_temp['mut_bases'].astype(object)\n",
    "    df_temp['num_reads'], df_temp['num_aligned'] = num_reads[cluster], num_reads[cluster]\n",
    "    df_temp['num_of_mutations'] = [num_of_mutations[cluster]]*len(df_temp)\n",
    "    df_out = pd.concat([df_out, df_temp])\n",
    "df = df_out.reset_index(drop=True)\n",
    "df.to_csv('/Users/ymdt/src/dreem/test/test_files/'+SAMPLE_NAME+'.csv', index=False)\n",
    "\n",
    "df\n",
    "\n"
   ]
  },
  {
   "cell_type": "markdown",
   "metadata": {},
   "source": [
    "### test demultiplexing module"
   ]
  },
  {
   "cell_type": "code",
   "execution_count": 5,
   "metadata": {},
   "outputs": [
    {
     "name": "stdout",
     "output_type": "stream",
     "text": [
      "(20, 4) (20, 4)\n",
      "/Users/ymdt/src/dreem/test/test_files\n"
     ]
    },
    {
     "data": {
      "text/plain": [
       "1"
      ]
     },
     "execution_count": 5,
     "metadata": {},
     "output_type": "execute_result"
    }
   ],
   "source": [
    "import sys, os\n",
    "import pandas as pd\n",
    "import numpy as np\n",
    "\n",
    "path = '/Users/ymdt/src/dreem/test/test_files/input/demultiplexing/test_set_1/'\n",
    "\n",
    "def hamming_distance(s1, s2):\n",
    "    assert len(s1) == len(s2)\n",
    "    return sum(ch1 != ch2 for ch1, ch2 in zip(s1, s2))\n",
    "\n",
    "def reverse_complement(seq):\n",
    "    return seq[::-1].translate(str.maketrans('ATCG', 'TAGC'))\n",
    "\n",
    "def barcode_in_read(barcode, read, max_hamming_distance=1):\n",
    "    if len(read) < len(barcode):\n",
    "        return False\n",
    "    for i in range(len(read)-len(barcode)+1):\n",
    "        if hamming_distance(barcode, read[i:i+len(barcode)]) <= max_hamming_distance:\n",
    "            return True\n",
    "    return False\n",
    "\n",
    "def __demultiplex(f1, f2, library, output_folder, temp_folder):\n",
    "    \"\"\"Demultiplex a pair of FASTQ files.\"\"\"\n",
    "    \n",
    "    library = pd.read_csv(library)\n",
    "    f1 = pd.DataFrame(np.loadtxt(f1, dtype=str).reshape(-1, 4), columns=['rname','rseq','+','qual'])\n",
    "    f2 = pd.DataFrame(np.loadtxt(f2, dtype=str).reshape(-1, 4), columns=['rname','rseq','+','qual'])\n",
    "    \n",
    "    print(f1.shape, f2.shape)\n",
    "    print(output_folder)\n",
    "    \n",
    "    for df in [f1,f2]:\n",
    "        df['construct'] = df['rname'].str.split(':').str[0].str[1:]\n",
    "        \n",
    "    constructs = library['construct'].unique()\n",
    "    barcodes = library['barcode'].unique()\n",
    "\n",
    "    assert len(constructs) == len(barcodes)\n",
    "    for construct, barcode in zip(constructs, barcodes):\n",
    "        # chec if the barcode andthe construct are on the same row\n",
    "        assert library.loc[library['construct']==construct, 'barcode'].values[0] == barcode\n",
    "\n",
    "    output_folder = os.path.join(output_folder,'output','demultiplexing','test_set_1')\n",
    "    if not os.path.exists(output_folder):\n",
    "        os.makedirs(output_folder)\n",
    "\n",
    "    # copy the reads from the fastq files that contain the barcode in a fastq file named after the construct in the output folder\n",
    "    for primer in [1,2]:\n",
    "        for construct, barcode in zip(constructs, barcodes):\n",
    "            if primer == 2:\n",
    "                barcode = reverse_complement(barcode)\n",
    "            \n",
    "            df = f1 if primer == 1 else f2\n",
    "            \n",
    "            with open(output_folder+'/'+construct+'_R'+str(primer)+'.fastq', 'w') as f:\n",
    "                for _, r in df.iterrows():\n",
    "                    if barcode_in_read(barcode, r['rseq']):\n",
    "                        f.write(r['rname']+'\\n'+r['rseq']+'\\n+\\n'+r['qual']+'\\n')\n",
    "    return 1\n",
    "\n",
    "__demultiplex('/Users/ymdt/src/dreem/test/test_files/input/demultiplexing/test_set_1/test_set_1_R1.fastq', \\\n",
    "                '/Users/ymdt/src/dreem/test/test_files/input/demultiplexing/test_set_1/test_set_1_R2.fastq',\\\n",
    "                   '/Users/ymdt/src/dreem/test/test_files/input/demultiplexing/test_set_1/library.csv',\\\n",
    "                   '/Users/ymdt/src/dreem/test/test_files',\n",
    "                   ''\\\n",
    ")\n",
    "                   "
   ]
  },
  {
   "cell_type": "code",
   "execution_count": 6,
   "metadata": {},
   "outputs": [],
   "source": [
    "def my_function(school, standard, city, name):\n",
    "    schoolName  = school\n",
    "    cityName = city\n",
    "    standardName = standard\n",
    "    studentName = name\n",
    "    \n",
    "data = {'school':'DAV', 'standard': '7', 'name': 'abc', 'city': 'delhi'}\n",
    "\n",
    "my_function(**data)"
   ]
  },
  {
   "cell_type": "code",
   "execution_count": 9,
   "metadata": {},
   "outputs": [
    {
     "name": "stdout",
     "output_type": "stream",
     "text": [
      "{'fastq1': '/Users/ymdt/src/dreem/test/test_files/input/demultiplexing/test_set_1/test_set_1_R1.fastq', 'fastq2': '/Users/ymdt/src/dreem/test/test_files/input/demultiplexing/test_set_1/test_set_1_R2.fastq', 'library': '/Users/ymdt/src/dreem/test/test_files/input/demultiplexing/test_set_1/library.csv', 'out_dir': '/Users/ymdt/src/dreem/test/test_files'}\n"
     ]
    }
   ],
   "source": [
    "import pandas as pd\n",
    "import dreem.util as util\n",
    "\n",
    "#from click_option_group import optgroup, RequiredMutuallyExclusiveOptionGroup\n",
    "import click\n",
    "import os\n",
    "from dreem.demultiplexing.demultiplexing import demultiplex\n",
    "\n",
    "\n",
    "def run(**args):\n",
    "    \"\"\"Run the demultiplexing pipeline.\n",
    "\n",
    "    Demultiplexes the reads and outputs one fastq file per construct in the directory `output_path`, using `temp_path` as a temp directory.\n",
    "\n",
    "    Parameters from args:\n",
    "    -----------------------\n",
    "    library: str\n",
    "        Path to the library file. Columns are (non-excusively): ['construct', 'barcode_start', 'barcode']\n",
    "    fastq1: str\n",
    "        Path to the FASTQ file or list of paths to the FASTQ files, forward primer.\n",
    "    fastq2: str\n",
    "        Path to the FASTQ file or list of paths to the FASTQ files, reverse primer.\n",
    "    out_dir: str\n",
    "        Name of the output directory.\n",
    "\n",
    "    Returns\n",
    "    -------\n",
    "    1 if successful, 0 otherwise.\n",
    "\n",
    "    \"\"\"\n",
    "    # Get the paths\n",
    "    root = args['out_dir']\n",
    "    temp_folder = os.path.join(root,'temp','demultiplexing')\n",
    "    output_folder = os.path.join(root,'output','demultiplexing')\n",
    "    fastq1 = args['fastq1'] if type(args['fastq1']) == list else [args['fastq1']]\n",
    "    fastq2 = args['fastq2'] if type(args['fastq2']) == list else [args['fastq2']]\n",
    "\n",
    "    # Make the folders\n",
    "    util.make_folder(output_folder)\n",
    "    util.make_folder(temp_folder)\n",
    "\n",
    "    # Demultiplex\n",
    "    for f1 in fastq1:\n",
    "        for f2 in fastq2:\n",
    "            if f1[:-len('_R1.fastq')] == f2[:-len('_R2.fastq')]:\n",
    "                sample = f1.split('/')[-1][:-len('_R1.fastq')]\n",
    "                util.make_folder(os.path.join(output_folder, sample))\n",
    "                assert demultiplex(f1, f2, args['library'], os.path.join(output_folder, sample), os.path.join(temp_folder, sample)), \"Demultiplexing failed\"\n",
    "    return 1\n",
    "\n",
    "\n",
    "if __name__ == '__main__':\n",
    "    path_input = os.path.join(os.getcwd(),'test','test_files','input','demultiplexing')\n",
    "    path_predicted = os.path.join(os.getcwd(),'test','test_files','predicted_output','demultiplexing')\n",
    "    path_output = os.path.join(os.getcwd(),'test','test_files')\n",
    "    sample = 'test_set_1'\n",
    "    args = {\n",
    "        'fastq1': '{}/{}_R1.fastq'.format(os.path.join(path_input,sample),sample),\n",
    "        'fastq2': '{}/{}_R2.fastq'.format(os.path.join(path_input,sample),sample),\n",
    "        'library': '{}/library.csv'.format(os.path.join(path_input,sample)),\n",
    "        'out_dir': path_output\n",
    "    }\n",
    "    print(args)\n",
    "    run(**args)"
   ]
  }
 ],
 "metadata": {
  "kernelspec": {
   "display_name": "Python 3.10.5 ('venv': venv)",
   "language": "python",
   "name": "python3"
  },
  "language_info": {
   "codemirror_mode": {
    "name": "ipython",
    "version": 3
   },
   "file_extension": ".py",
   "mimetype": "text/x-python",
   "name": "python",
   "nbconvert_exporter": "python",
   "pygments_lexer": "ipython3",
   "version": "3.10.5"
  },
  "orig_nbformat": 4,
  "vscode": {
   "interpreter": {
    "hash": "f0a4d76a0d5ea62c480539b722ddd34f9294731fffb4b02b5d1413de5cbfc627"
   }
  }
 },
 "nbformat": 4,
 "nbformat_minor": 2
}
