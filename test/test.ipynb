{
 "cells": [
  {
   "cell_type": "markdown",
   "metadata": {},
   "source": [
    "## Fastq1"
   ]
  },
  {
   "cell_type": "code",
   "execution_count": 7,
   "metadata": {},
   "outputs": [
    {
     "data": {
      "text/plain": [
       "151"
      ]
     },
     "execution_count": 7,
     "metadata": {},
     "output_type": "execute_result"
    }
   ],
   "source": [
    "len('GGAAGATCGAGTAGATCAAAGGACGTATGGCGGGCGGCCGAGACCCCGAACTACGAGGAACAGAGGAAACTCTACCCCTCGCGGGGTCGTTTGACGCCGCCCGCCTAAGCGTCCAAAGAAACAACAACAACAACAGCCACCCAGGCAGATC')"
   ]
  },
  {
   "cell_type": "markdown",
   "metadata": {},
   "source": [
    "## Fastq2"
   ]
  },
  {
   "cell_type": "code",
   "execution_count": 8,
   "metadata": {},
   "outputs": [
    {
     "data": {
      "text/plain": [
       "139"
      ]
     },
     "execution_count": 8,
     "metadata": {},
     "output_type": "execute_result"
    }
   ],
   "source": [
    "len('GTTGTTGTTGTTGTTTCTTTGGACGCTTAGGCGGGCGGCGTCAAACGACCCCGCGAGGGGTAGAGTTTCCTCTGTTCCTCGTAGTTCGGGGTCTCGGCCGCCCGCCATACGTCCTTTGATCTACTCGATCTTCCAGATC')"
   ]
  },
  {
   "cell_type": "markdown",
   "metadata": {},
   "source": [
    "## Fasta"
   ]
  },
  {
   "cell_type": "code",
   "execution_count": 9,
   "metadata": {},
   "outputs": [
    {
     "data": {
      "text/plain": [
       "134"
      ]
     },
     "execution_count": 9,
     "metadata": {},
     "output_type": "execute_result"
    }
   ],
   "source": [
    "len('GGAAGATCGAGTAGATCAAAGGACGTATGGCGGGCGGCCGAGACCCCGAACTACGAGGAACAGAGGAAACTCTACCCCTCGCGGGGTCGTTTGACGCCGCCCGCCTAAGCGTCCAAAGAAACAACAACAACAAC')"
   ]
  }
 ],
 "metadata": {
  "kernelspec": {
   "display_name": "Python 3.10.5 64-bit",
   "language": "python",
   "name": "python3"
  },
  "language_info": {
   "codemirror_mode": {
    "name": "ipython",
    "version": 3
   },
   "file_extension": ".py",
   "mimetype": "text/x-python",
   "name": "python",
   "nbconvert_exporter": "python",
   "pygments_lexer": "ipython3",
   "version": "3.10.5"
  },
  "orig_nbformat": 4,
  "vscode": {
   "interpreter": {
    "hash": "44a9cdcbdccbf05a880e90d2e6fe72470baab4d1b82472d890be0596ed887a6b"
   }
  }
 },
 "nbformat": 4,
 "nbformat_minor": 2
}
