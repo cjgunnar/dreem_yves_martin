{
 "cells": [
  {
   "cell_type": "markdown",
   "metadata": {},
   "source": [
    "### About this notebook\n",
    "\n",
    "Create a test set for demultiplexing.\n",
    "\n",
    "1 sample, 1 construct, 2 groups of mutations, one has 2 mutations and the other has 1, 10 reads, 100nt. "
   ]
  },
  {
   "cell_type": "markdown",
   "metadata": {},
   "source": [
    "### Imports"
   ]
  },
  {
   "cell_type": "code",
   "execution_count": null,
   "metadata": {},
   "outputs": [],
   "source": [
    "%load_ext autoreload\n",
    "%autoreload 2\n",
    "\n",
    "import sys, os\n",
    "try:\n",
    "    sys.path.append(os.path.abspath(os.path.join(os.path.dirname(os.path.realpath(__file__)), '../..')))\n",
    "except:\n",
    "    __file__ = os.path.join(os.getcwd(),'make_alignment_files.ipynb')\n",
    "    sys.path.append(os.path.abspath(os.path.join(os.path.dirname(os.path.realpath(__file__)), '../..')))\n",
    "\n",
    "import numpy as np\n",
    "import dreem \n",
    "import dreem.util as util\n",
    "import pandas as pd\n",
    "import os"
   ]
  },
  {
   "cell_type": "markdown",
   "metadata": {},
   "source": [
    "### Create test files for `test set 1`\n",
    "- fasta file\n",
    "- pair of fastq files"
   ]
  },
  {
   "cell_type": "code",
   "execution_count": null,
   "metadata": {},
   "outputs": [],
   "source": [
    "%reload_ext autoreload\n",
    "\n",
    "sample_name = 'test_set_1'\n",
    "number_of_constructs = 2\n",
    "number_of_reads = [10]*number_of_constructs\n",
    "mutations = [[[25]]*4+[[50,75]]*(n-4) for n in number_of_reads]\n",
    "length = 100\n",
    "reads = [[util.create_sequence(length)]*number_of_reads[k] for k in range(number_of_constructs)]\n",
    "insertions = [[[]]*n for n in number_of_reads]\n",
    "deletions = [[[]]*n for n in number_of_reads]\n",
    "constructs = ['construct_{}'.format(i) for i in range(number_of_constructs)]\n",
    "barcode_start = 10\n",
    "barcodes = util.generate_barcodes(8, number_of_constructs, 3)\n",
    "sections_start = [[0, 25, 50, 75]]*number_of_constructs\n",
    "sections_end = [[25, 50, 75, 99]]*number_of_constructs\n",
    "sections = [['{}_{}'.format(ss, se) for ss,se in zip(sections_start[n], sections_end[n])] for n in range(number_of_constructs)]\n",
    "\n",
    "sample_profile = util.make_sample_profile(constructs, reads, number_of_reads, mutations, insertions, deletions, sections=sections, section_start=sections_start, section_end=sections_end, barcodes=barcodes, barcode_start=barcode_start)\n",
    "test_files_dir = os.path.abspath(os.path.join(os.path.dirname(os.path.realpath(__file__)),  '../..', 'test', 'test_files'))\n",
    "\n",
    "inputs = ['fastq','fasta']\n",
    "outputs = ['sam']\n",
    "util.generate_files(sample_profile, 'alignment', inputs, outputs, test_files_dir, sample_name)"
   ]
  },
  {
   "cell_type": "markdown",
   "metadata": {},
   "source": [
    "### Data sanity check"
   ]
  },
  {
   "cell_type": "code",
   "execution_count": null,
   "metadata": {},
   "outputs": [],
   "source": [
    "path_input = os.path.join(os.getcwd(),'..','test_files','input','alignment')\n",
    "path_predicted = os.path.join(os.getcwd(),'..','test_files','predicted_output','alignment')\n",
    "path_output = os.path.join(os.getcwd(),'..','test_files')\n",
    "\n",
    "import pandas as pd\n",
    "\n",
    "def sam_to_df(path):\n",
    "    with open(path) as f:\n",
    "        lines = f.readlines()\n",
    "    lines = [l for l in lines if not l.startswith('@')]\n",
    "    lines = [l.split('\\t') for l in lines]\n",
    "    df = pd.DataFrame(lines)\n",
    "    df.columns = ['QNAME', 'FLAG', 'RNAME', 'POS', 'MAPQ', 'CIGAR', 'RNEXT', 'PNEXT', 'TLEN', 'SEQ']\n",
    "    return df\n",
    "\n",
    "for sample in os.listdir(path_input):\n",
    "    for pred, out in zip(os.listdir(os.path.join(path_predicted,sample)), os.listdir(os.path.join(path_output,'output','alignment',sample))):\n",
    "        p, o = sam_to_df(os.path.join(path_predicted,sample,pred)), sam_to_df(os.path.join(path_output,'output','alignment',sample,out))\n",
    "        both = pd.concat([p,o], ignore_index=True).reset_index(drop=True)\n",
    "        for col in ['QNAME', 'FLAG', 'RNAME', 'POS', 'CIGAR', 'TLEN', 'SEQ']:\n",
    "            for i, g in both.groupby(col):\n",
    "                if col != 'FLAG':\n",
    "                    assert \n",
    "                    "
   ]
  }
 ],
 "metadata": {
  "kernelspec": {
   "display_name": "Python 3.10.5 64-bit",
   "language": "python",
   "name": "python3"
  },
  "language_info": {
   "codemirror_mode": {
    "name": "ipython",
    "version": 3
   },
   "file_extension": ".py",
   "mimetype": "text/x-python",
   "name": "python",
   "nbconvert_exporter": "python",
   "pygments_lexer": "ipython3",
   "version": "3.10.5"
  },
  "vscode": {
   "interpreter": {
    "hash": "44a9cdcbdccbf05a880e90d2e6fe72470baab4d1b82472d890be0596ed887a6b"
   }
  }
 },
 "nbformat": 4,
 "nbformat_minor": 2
}
