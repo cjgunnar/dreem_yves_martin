{
 "cells": [
  {
   "cell_type": "markdown",
   "metadata": {},
   "source": [
    "### About this notebook\n",
    "\n",
    "Create a test set for demultiplexing.\n",
    "\n",
    "1 sample, 1 construct, 2 groups of mutations, one has 2 mutations and the other has 1, 10 reads, 100nt. "
   ]
  },
  {
   "cell_type": "markdown",
   "metadata": {},
   "source": [
    "### Imports"
   ]
  },
  {
   "cell_type": "code",
   "execution_count": null,
   "metadata": {},
   "outputs": [],
   "source": [
    "%load_ext autoreload\n",
    "%autoreload 2\n",
    "\n",
    "import sys, os\n",
    "try:\n",
    "    sys.path.append(os.path.abspath(os.path.join(os.path.dirname(os.path.realpath(__file__)), '../..')))\n",
    "except:\n",
    "    __file__ = os.path.join(os.getcwd(),'alignment.ipynb')\n",
    "    sys.path.append(os.path.abspath(os.path.join(os.path.dirname(os.path.realpath(__file__)), '../..')))\n",
    "\n",
    "import numpy as np\n",
    "import dreem \n",
    "import dreem.util as util\n",
    "import pandas as pd\n",
    "import os"
   ]
  },
  {
   "cell_type": "markdown",
   "metadata": {},
   "source": [
    "### Create test files for `test set 1`\n",
    "- fasta file\n",
    "- pair of fastq files"
   ]
  },
  {
   "cell_type": "code",
   "execution_count": null,
   "metadata": {},
   "outputs": [],
   "source": [
    "%reload_ext autoreload\n",
    "\n",
    "sample_name = 'test_set_1'\n",
    "number_of_constructs = 2\n",
    "number_of_reads = [10]*number_of_constructs\n",
    "mutations = [[[25]]*4+[[50,75]]*(n-4) for n in number_of_reads]\n",
    "length = 100\n",
    "sequences = [util.create_sequence(length) for _ in range(number_of_constructs)]\n",
    "insertions = [[[]]*n for n in number_of_reads]\n",
    "deletions = [[[]]*n for n in number_of_reads]\n",
    "barcode_start = 10\n",
    "barcodes = util.generate_barcodes(8, number_of_constructs, 3)\n",
    "constructs = ['construct_{}'.format(i) for i in range(number_of_constructs)]\n",
    "\n",
    "test_files_dir = os.path.join(os.path.dirname(os.path.realpath(__file__)),  '../..', 'test', 'test_files')\n",
    "fastq1_name = os.path.join(test_files_dir, 'input', 'alignment', sample_name, sample_name+'_R1.fastq')\n",
    "fastq2_name = os.path.join(test_files_dir, 'input', 'alignment', sample_name, sample_name+'_R2.fastq')\n",
    "fasta_name = os.path.join(test_files_dir, 'input', 'alignment', sample_name, 'library.csv')\n",
    "\n",
    "os.makedirs(os.path.dirname(fasta_name), exist_ok=True)\n",
    "util.generate_fastq_files(fastq1_name, fastq2_name, number_of_reads, mutations, sequences, insertions, deletions, barcode_start, barcodes, constructs)\n",
    "util.generate_fasta_file(fasta_name, sequences, constructs, barcodes, barcode_start)\n"
   ]
  }
 ],
 "metadata": {
  "kernelspec": {
   "display_name": "Python 3.10.5 64-bit",
   "language": "python",
   "name": "python3"
  },
  "language_info": {
   "codemirror_mode": {
    "name": "ipython",
    "version": 3
   },
   "file_extension": ".py",
   "mimetype": "text/x-python",
   "name": "python",
   "nbconvert_exporter": "python",
   "pygments_lexer": "ipython3",
   "version": "3.10.5"
  },
  "vscode": {
   "interpreter": {
    "hash": "44a9cdcbdccbf05a880e90d2e6fe72470baab4d1b82472d890be0596ed887a6b"
   }
  }
 },
 "nbformat": 4,
 "nbformat_minor": 2
}
