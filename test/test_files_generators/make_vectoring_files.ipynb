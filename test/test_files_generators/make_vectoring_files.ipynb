{
 "cells": [
  {
   "cell_type": "markdown",
   "metadata": {},
   "source": [
    "### Imports"
   ]
  },
  {
   "cell_type": "code",
   "execution_count": null,
   "metadata": {},
   "outputs": [],
   "source": [
    "%load_ext autoreload\n",
    "%autoreload 2\n",
    " \n",
    "import sys, os\n",
    "\n",
    "try:\n",
    "    sys.path.append(os.path.abspath(os.path.join(os.path.dirname(os.path.realpath(__file__)), '../..')))\n",
    "except:\n",
    "    __file__ = os.path.join(os.getcwd(),'vectoring.ipynb')\n",
    "    sys.path.append(os.path.abspath(os.path.join(os.path.dirname(os.path.realpath(__file__)), '../..')))\n",
    "    \n",
    "import numpy as np\n",
    "import dreem \n",
    "import dreem.util as util\n",
    "import pandas as pd\n",
    "import os"
   ]
  },
  {
   "cell_type": "markdown",
   "metadata": {},
   "source": [
    "### Create test files for ```test_set_1.py```\n"
   ]
  },
  {
   "cell_type": "code",
   "execution_count": null,
   "metadata": {},
   "outputs": [],
   "source": [
    "\n",
    "# it's crap, change it please @Alberic\n",
    "sample_name = 'test_set_1'\n",
    "number_of_constructs = 2\n",
    "number_of_reads = [10]*number_of_constructs\n",
    "mutations = [[[25]]*4+[[50,75]]*(n-4) for n in number_of_reads]\n",
    "length = 100\n",
    "sequences = [[util.create_sequence(length)]*number_of_reads[k] for k in range(number_of_constructs)]\n",
    "insertions = [[[]]*n for n in number_of_reads]\n",
    "deletions = [[[]]*n for n in number_of_reads]\n",
    "constructs = ['construct_{}'.format(i) for i in range(number_of_constructs)]\n",
    "\n",
    "sections_start = [[0, 25, 50, 75]]*number_of_constructs\n",
    "sections_end = [[25, 50, 75, 99]]*number_of_constructs\n",
    "sections = [['{}_{}'.format(ss, se) for ss,se in zip(sections_start[n], sections_end[n])] for n in range(number_of_constructs)]\n",
    "sample_profile = util.make_sample_profile(constructs, sequences, number_of_reads, mutations, insertions, deletions, sections=sections, section_start=sections_start, section_end=sections_end)\n",
    "print(sample_profile)\n",
    "test_files_dir = os.path.abspath(os.path.join(os.path.dirname(os.path.realpath(__file__)),  '../..', 'test', 'test_files'))\n",
    "fasta_name = os.path.join(test_files_dir, 'input', 'vectoring', 'reference.fasta')\n",
    "library_name = os.path.join(test_files_dir, 'input', 'vectoring', 'library.csv')\n",
    "sam_folder = os.path.join(test_files_dir, 'input', 'vectoring', sample_name)\n",
    "bitvector_folder = os.path.join(test_files_dir, 'predicted_output', 'vectoring', sample_name)\n",
    "\n",
    "os.makedirs(os.path.dirname(fasta_name), exist_ok=True)\n",
    "os.makedirs(sam_folder, exist_ok=True)\n",
    "util.generate_fasta_file(fasta_name, sample_profile)\n",
    "util.generate_sam_files(sam_folder, sample_profile)\n",
    "util.generate_library_file(library_name, sample_profile)\n",
    "util.generate_bitvector_files(bitvector_folder, sample_profile, library_name)\n"
   ]
  }
 ],
 "metadata": {
  "kernelspec": {
   "display_name": "Python 3.10.5 64-bit",
   "language": "python",
   "name": "python3"
  },
  "language_info": {
   "codemirror_mode": {
    "name": "ipython",
    "version": 3
   },
   "file_extension": ".py",
   "mimetype": "text/x-python",
   "name": "python",
   "nbconvert_exporter": "python",
   "pygments_lexer": "ipython3",
   "version": "3.10.5"
  },
  "vscode": {
   "interpreter": {
    "hash": "44a9cdcbdccbf05a880e90d2e6fe72470baab4d1b82472d890be0596ed887a6b"
   }
  }
 },
 "nbformat": 4,
 "nbformat_minor": 2
}
