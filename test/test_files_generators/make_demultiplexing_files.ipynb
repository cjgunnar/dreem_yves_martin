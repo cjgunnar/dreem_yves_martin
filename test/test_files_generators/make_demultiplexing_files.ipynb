{
 "cells": [
  {
   "cell_type": "markdown",
   "metadata": {},
   "source": [
    "### About this notebook\n",
    "\n",
    "Create a test set for demultiplexing.\n",
    "\n",
    "1 sample, 1 construct, 2 groups of mutations, one has 2 mutations and the other has 1, 10 reads, 100nt. "
   ]
  },
  {
   "cell_type": "markdown",
   "metadata": {},
   "source": [
    "### Imports"
   ]
  },
  {
   "cell_type": "code",
   "execution_count": 1,
   "metadata": {},
   "outputs": [],
   "source": [
    "%load_ext autoreload\n",
    "%autoreload 2\n",
    " \n",
    "import sys, os\n",
    "\n",
    "try:\n",
    "    sys.path.append(os.path.abspath(os.path.join(os.path.dirname(os.path.realpath(__file__)), '../..')))\n",
    "except:\n",
    "    __file__ = os.path.join(os.getcwd(),'make_demultiplexing_files.ipynb')\n",
    "    sys.path.append(os.path.abspath(os.path.join(os.path.dirname(os.path.realpath(__file__)), '../..')))\n",
    "    \n",
    "import numpy as np\n",
    "import dreem \n",
    "import dreem.util as util\n",
    "import pandas as pd\n",
    "import os"
   ]
  },
  {
   "cell_type": "markdown",
   "metadata": {},
   "source": [
    "### Create test files for `test set 1`\n",
    "- library\n",
    "- pair of fastq files"
   ]
  },
  {
   "cell_type": "code",
   "execution_count": 2,
   "metadata": {},
   "outputs": [],
   "source": [
    "%reload_ext autoreload\n",
    "\n",
    "sample_name = 'test_set_1'\n",
    "number_of_constructs = 2\n",
    "number_of_reads = [10]*number_of_constructs\n",
    "mutations = [[[25]]*4+[[50,75]]*(n-4) for n in number_of_reads]\n",
    "length = 100\n",
    "sequences = [[util.create_sequence(length)]*number_of_reads[k] for k in range(number_of_constructs)]\n",
    "insertions = [[[]]*n for n in number_of_reads]\n",
    "deletions = [[[]]*n for n in number_of_reads]\n",
    "constructs = ['construct_{}'.format(i) for i in range(number_of_constructs)]\n",
    "barcode_start = 10\n",
    "barcodes = [util.generate_barcodes(8, n, 3) for n in number_of_reads]\n",
    "sections_start = [[0, 25, 50, 75]]*number_of_constructs\n",
    "sections_end = [[25, 50, 75, 99]]*number_of_constructs\n",
    "sections = [['{}_{}'.format(ss, se) for ss,se in zip(sections_start[n], sections_end[n])] for n in range(number_of_constructs)]\n",
    "\n",
    "sample_profile = util.make_sample_profile(constructs, sequences, number_of_reads, mutations, insertions, deletions, sections=sections, section_start=sections_start, section_end=sections_end, barcodes=barcodes, barcode_start=barcode_start)\n",
    "test_files_dir = os.path.abspath(os.path.join(os.path.dirname(os.path.realpath(__file__)),  '../..', 'test', 'test_files'))\n",
    "\n",
    "inputs = ['fastq','library']\n",
    "outputs = ['demultiplexed_fastq']\n",
    "util.generate_files(sample_profile, 'demultiplexing', inputs, outputs, test_files_dir, sample_name)\n"
   ]
  },
  {
   "cell_type": "code",
   "execution_count": 4,
   "metadata": {},
   "outputs": [
    {
     "name": "stdout",
     "output_type": "stream",
     "text": [
      "67\n",
      "0.36224794387817383 [ms]\n"
     ]
    },
    {
     "data": {
      "image/png": "[encoded data removed]",
      "text/plain": [
       "<Figure size 432x288 with 1 Axes>"
      ]
     },
     "metadata": {
      "needs_background": "light"
     },
     "output_type": "display_data"
    }
   ],
   "source": [
    "import numpy as np\n",
    "import matplotlib.pyplot as plt\n",
    "from scipy import signal\n",
    "import time\n",
    "\n",
    "base_to_vector = {\n",
    "    \"A\": [1, 0, 0, 0],\n",
    "    \"T\": [0, 1, 0, 0],\n",
    "    \"C\": [0, 0, 1, 0],\n",
    "    \"G\": [0, 0, 0, 1]\n",
    "}\n",
    "\n",
    "ntry = 1000\n",
    "\n",
    "# Create random sequences and barcodes\n",
    "seqs = []\n",
    "barcodes = []\n",
    "for i in range(ntry):\n",
    "    seq = util.create_sequence(100)\n",
    "    barcode = util.create_sequence(5)\n",
    "\n",
    "    barcode_start = np.random.randint(0, 90)\n",
    "\n",
    "    seq = seq[:barcode_start] + barcode + seq[barcode_start+len(barcode):]\n",
    "\n",
    "    # print(barcode)\n",
    "    # print(seq)\n",
    "\n",
    "    seq = [ base_to_vector[base] for base in seq]\n",
    "    seq = np.array(seq).T\n",
    "\n",
    "    barcode = [ base_to_vector[base] for base in barcode]\n",
    "    barcode = np.array(barcode).T\n",
    "\n",
    "    seqs.append(seq)\n",
    "    barcodes.append(barcode)\n",
    "\n",
    "# Compute correlation and time it\n",
    "now = time.time()\n",
    "for i in range(ntry):\n",
    "\n",
    "    corr = signal.correlate(seqs[i], barcodes[i], mode=\"valid\", method=\"auto\").squeeze()/barcode.shape[1]\n",
    "\n",
    "    np.argmax(corr)\n",
    "\n",
    "plt.plot(corr)\n",
    "print(np.argmax(corr))\n",
    "print(time.time()-now, \"[ms]\")"
   ]
  },
  {
   "cell_type": "code",
   "execution_count": null,
   "metadata": {},
   "outputs": [],
   "source": []
  }
 ],
 "metadata": {
  "kernelspec": {
   "display_name": "Python 3.9.13 64-bit",
   "language": "python",
   "name": "python3"
  },
  "language_info": {
   "codemirror_mode": {
    "name": "ipython",
    "version": 3
   },
   "file_extension": ".py",
   "mimetype": "text/x-python",
   "name": "python",
   "nbconvert_exporter": "python",
   "pygments_lexer": "ipython3",
   "version": "3.9.13"
  },
  "vscode": {
   "interpreter": {
    "hash": "ac2eaa0ea0ebeafcc7822e65e46aa9d4f966f30b695406963e145ea4a91cd4fc"
   }
  }
 },
 "nbformat": 4,
 "nbformat_minor": 2
}
